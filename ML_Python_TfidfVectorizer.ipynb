{
  "nbformat": 4,
  "nbformat_minor": 0,
  "metadata": {
    "colab": {
      "provenance": [],
      "authorship_tag": "ABX9TyM/ZyNzQqItuMyjLpvSDUEZ"
    },
    "kernelspec": {
      "name": "python3",
      "display_name": "Python 3"
    },
    "language_info": {
      "name": "python"
    }
  },
  "cells": [
    {
      "cell_type": "code",
      "execution_count": null,
      "metadata": {
        "id": "n0rhapSM1LAE"
      },
      "outputs": [],
      "source": [
        "from sklearn.feature_extraction.text import TfidfVectorizer"
      ]
    },
    {
      "cell_type": "code",
      "source": [
        "# Preprocessed text data\n",
        "documents = [\n",
        "    \"The quick brown fox jumps over the lazy dog.\",\n",
        "    \"A quick brown cat jumps over the lazy dog.\"\n",
        "]\n",
        "\n",
        "# Extract bigrams and calculate TF-IDF weights\n",
        "vectorizer = TfidfVectorizer(ngram_range=(2, 2))\n",
        "X = vectorizer.fit_transform(documents)\n",
        "\n",
        "# Print the vocabulary and TF-IDF weights\n",
        "print(vectorizer.vocabulary_)\n",
        "print(X.toarray())"
      ],
      "metadata": {
        "colab": {
          "base_uri": "https://localhost:8080/"
        },
        "id": "phQrIoK01Mfc",
        "outputId": "76d57f2f-cff0-4bdf-e1b9-dace9e4039fa"
      },
      "execution_count": null,
      "outputs": [
        {
          "output_type": "stream",
          "name": "stdout",
          "text": [
            "{'the quick': 9, 'quick brown': 7, 'brown fox': 1, 'fox jumps': 3, 'jumps over': 4, 'over the': 6, 'the lazy': 8, 'lazy dog': 5, 'brown cat': 0, 'cat jumps': 2}\n",
            "[[0.         0.42519636 0.         0.42519636 0.30253071 0.30253071\n",
            "  0.30253071 0.30253071 0.30253071 0.42519636]\n",
            " [0.46977774 0.         0.46977774 0.         0.33425073 0.33425073\n",
            "  0.33425073 0.33425073 0.33425073 0.        ]]\n"
          ]
        }
      ]
    },
    {
      "cell_type": "code",
      "source": [
        "# Preprocessed text data\n",
        "documents = [\n",
        "    \"A quick brown\",\n",
        "    \"The quick brown\"\n",
        "]\n",
        "\n",
        "# Extract bigrams and calculate TF-IDF weights\n",
        "vectorizer = TfidfVectorizer(ngram_range=(2, 2))\n",
        "X = vectorizer.fit_transform(documents)\n",
        "\n",
        "# Print the vocabulary and TF-IDF weights\n",
        "print(vectorizer.vocabulary_)\n",
        "print(X.toarray())"
      ],
      "metadata": {
        "colab": {
          "base_uri": "https://localhost:8080/"
        },
        "id": "Bm4QpO_41P-D",
        "outputId": "096f72fd-9442-4332-95f2-6e9d09fa3d55"
      },
      "execution_count": null,
      "outputs": [
        {
          "output_type": "stream",
          "name": "stdout",
          "text": [
            "{'quick brown': 0, 'the quick': 1}\n",
            "[[1.         0.        ]\n",
            " [0.57973867 0.81480247]]\n"
          ]
        }
      ]
    },
    {
      "cell_type": "code",
      "source": [
        "import math\n",
        "def distance2d(x1, y1, x2, y2):\n",
        "    return math.sqrt((x1 - x2)**2 + (y1 - y2)**2)"
      ],
      "metadata": {
        "id": "TBUv5PR03nvV"
      },
      "execution_count": 1,
      "outputs": []
    },
    {
      "cell_type": "code",
      "source": [
        "distance2d(70, 30, 75, 40) # panda and capybara\n"
      ],
      "metadata": {
        "colab": {
          "base_uri": "https://localhost:8080/"
        },
        "id": "wAVMEiv1FzK4",
        "outputId": "173bc9a1-da8e-4a28-e0b0-72048e3d18e5"
      },
      "execution_count": 2,
      "outputs": [
        {
          "output_type": "execute_result",
          "data": {
            "text/plain": [
              "104.0096149401583"
            ]
          },
          "metadata": {},
          "execution_count": 2
        }
      ]
    },
    {
      "cell_type": "code",
      "source": [
        "distance2d(8, 3, 65, 90) # tarantula and elephant"
      ],
      "metadata": {
        "colab": {
          "base_uri": "https://localhost:8080/"
        },
        "id": "jICYVvfGGAqv",
        "outputId": "52d0e753-fc35-42ce-e479-102dd6aee959"
      },
      "execution_count": 3,
      "outputs": [
        {
          "output_type": "execute_result",
          "data": {
            "text/plain": [
              "104.0096149401583"
            ]
          },
          "metadata": {},
          "execution_count": 3
        }
      ]
    },
    {
      "cell_type": "code",
      "source": [],
      "metadata": {
        "id": "YIH9hkORGFmu"
      },
      "execution_count": null,
      "outputs": []
    }
  ]
}